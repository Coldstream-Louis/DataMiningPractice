{
 "cells": [
  {
   "cell_type": "code",
   "execution_count": 54,
   "metadata": {},
   "outputs": [
    {
     "name": "stdout",
     "output_type": "stream",
     "text": [
      "298\n"
     ]
    }
   ],
   "source": [
    "import pandas as pd\n",
    "from lshash.lshash import LSHash\n",
    "from sklearn.cluster import KMeans\n",
    "import numpy as np\n",
    "from sklearn.metrics import silhouette_samples, silhouette_score\n",
    "from sklearn.datasets import make_blobs\n",
    "import matplotlib.pyplot as plt\n",
    "import matplotlib.cm as cm\n",
    "from sklearn import mixture\n",
    "\n",
    "from sklearn.cluster import DBSCAN\n",
    "from sklearn import metrics\n",
    "from sklearn.datasets.samples_generator import make_blobs\n",
    "from sklearn.preprocessing import StandardScaler\n",
    "\n",
    "\n",
    "data = pd.read_csv('trade.csv')\n",
    "\n",
    "vipno = data['vipno'].tolist()\n",
    "vipno = list(set(vipno))\n",
    "print(len(vipno))\n",
    "pluno = data['pluno'].tolist()\n",
    "pluno = list(set(pluno))\n",
    "frame = pd.DataFrame(index=pluno, columns=vipno)\n",
    "\n",
    "frame.fillna(0, inplace=True)\n",
    "\n",
    "for index, row in data.iterrows():\n",
    "        frame.at[row['pluno'],row['vipno']] = frame.at[row['pluno'],row['vipno']] + round(row['amt'])"
   ]
  },
  {
   "cell_type": "code",
   "execution_count": 51,
   "metadata": {},
   "outputs": [
    {
     "data": {
      "image/png": "[encoded data removed]",
      "text/plain": [
       "<matplotlib.figure.Figure at 0x1d39af7f2b0>"
      ]
     },
     "metadata": {},
     "output_type": "display_data"
    }
   ],
   "source": [
    "lsh = LSHash(3, 2635)\n",
    "for colname, col in frame.iteritems():\n",
    "    lsh.index(col.tolist(),colname)\n",
    "\n",
    "#做出平均轮廓系数随eps增大而变化的图像\n",
    "plt.figure(figsize=(13, 5.5))\n",
    "x = []\n",
    "y = []\n",
    "eps=100 \n",
    "while(eps < 2000):\n",
    "    #计算当前eps下的dbscan聚类结果\n",
    "    db_labels = DBSCAN(eps=eps).fit_predict(frame.T)\n",
    "    #求出平均轮廓系数\n",
    "    silhouette_avg = silhouette_score(frame.T, db_labels)\n",
    "    x.append(eps)\n",
    "    y.append(silhouette_avg)\n",
    "    eps = eps + 100\n",
    "plt.plot(x, y, color='red', marker='o', linestyle='solid')\n",
    "plt.title(\"The silhouette plot for the various clusters.\")\n",
    "plt.xlabel(\"eps\")\n",
    "plt.ylabel(\"Silhouette_score\")\n",
    "plt.show()"
   ]
  },
  {
   "cell_type": "code",
   "execution_count": 61,
   "metadata": {},
   "outputs": [
    {
     "name": "stdout",
     "output_type": "stream",
     "text": [
      "[ 0  0  0  0  0  0  0  0  0  0  0  0  0  0  0  0  0  0  0  0  0  0  0  0\n",
      "  0  0  0  0  0  0  0  0  0  0  0  0  0  0  0  0  0  0  0  0  0  0  0  0\n",
      "  0  0  0  0  0  0  0  0  0  0  0  0  0  0  0  0  0  0  0  0  0  0  0  0\n",
      "  0  0  0  0  0  0  0  0  0  0  0  0  0  0  0  0  0  0  0 -1  0  0  0  0\n",
      "  0  0  0  0  0  0  0  0  0  0  0  0  0  0  0  0  0  0  0  0  0  0  0  0\n",
      "  0  0  0  0  0  0  0  0  0  0  0  0  0  0  0  0  0  0  0  0  0  0  0  0\n",
      "  0  0  0  0  0  0  0  0  0  0  0  0  0  0  0  0  0  0  0  0  0  0  0  0\n",
      "  0  0  0  0  0  0  0  0  0  0  0  0  0  0  0  0  0  0  0  0  0  0  0  0\n",
      "  0  0  0  0  0  0  0  0  0  0  0  0  0  0  0  0  0  0  0  0  0  0  0  0\n",
      "  0  0  0  0  0  0  0  0  0  0  0  0  0  0  0  0  0  0  0  0  0  0  0  0\n",
      "  0  0  0  0  0  0  0  0  0  0  0  0  0  0  0  0  0  0  0  0  0  0  0  0\n",
      "  0  0  0  0  0  0  0  0  0  0  0  0  0  0  0  0  0  0  0  0  0  0  0  0\n",
      "  0  0  0  0  0  0  0  0  0  0]\n",
      "false\n",
      "false\n",
      "false\n",
      "false\n",
      "false\n"
     ]
    }
   ],
   "source": [
    "lsh = LSHash(3, 2635)\n",
    "for colname, col in frame.iteritems():\n",
    "    lsh.index(col.tolist(),colname)\n",
    "\n",
    "#使用dbscan得到聚类\n",
    "db_labels = DBSCAN(eps=eps).fit_predict(frame.T)\n",
    "\n",
    "print(db_labels)\n",
    "\n",
    "#对每一个vipno计算前5个knn是否和它位于同一个聚类，如果不是同一个聚类则输出false\n",
    "for x in range(298):\n",
    "    k = 0\n",
    "    a = lsh.query(frame.T.iloc[x].tolist(),6)\n",
    "\n",
    "    label = db_labels[x]\n",
    "    for i in a[1:]:\n",
    "        if(db_labels[vipno.index(i[0][1])] != label):\n",
    "            print('false')"
   ]
  },
  {
   "cell_type": "code",
   "execution_count": 62,
   "metadata": {
    "scrolled": true
   },
   "outputs": [
    {
     "name": "stdout",
     "output_type": "stream",
     "text": [
      "[ 0  0  0  0  0  0  0  0  0  0  0  0  0  0  0  0  0  0  0  0  0  0  0  0\n",
      "  0  0  0  0  0  0  0  0  0  0  0  0  0  0  0  0  0  0  0  0  0  0  0  0\n",
      "  0  0  0  0  0  0  0  0  0  0  0  0  0  0  0  0  0  0  0  0  0  0  0  0\n",
      "  0  0  0  0  0  0  0  0  0  0  0  0  0  0  0  0  0  0  0 -1  0  0  0  0\n",
      "  0  0  0  0  0  0  0  0  0  0  0  0  0  0  0  0  0  0  0  0  0  0  0  0\n",
      "  0  0  0  0  0  0  0  0  0  0  0  0  0  0  0  0  0  0  0  0  0  0  0  0\n",
      "  0  0  0  0  0  0  0  0  0  0  0  0  0  0  0  0  0  0  0  0  0  0  0  0\n",
      "  0  0  0  0  0  0  0  0  0  0  0  0  0  0  0  0  0  0  0  0  0  0  0  0\n",
      "  0  0  0  0  0  0  0  0  0  0  0  0  0  0  0  0  0  0  0  0  0  0  0  0\n",
      "  0  0  0  0  0  0  0  0  0  0  0  0  0  0  0  0  0  0  0  0  0  0  0  0\n",
      "  0  0  0  0  0  0  0  0  0  0  0  0  0  0  0  0  0  0  0  0  0  0  0  0\n",
      "  0  0  0  0  0  0  0  0  0  0  0  0  0  0  0  0  0  0  0  0  0  0  0  0\n",
      "  0  0  0  0  0  0  0  0  0  0]\n",
      "0.9405452116338006\n"
     ]
    }
   ],
   "source": [
    "#eps = 1400时DBscan的聚类结果\n",
    "dbscan = DBSCAN(eps=1400).fit(frame.T)\n",
    "\n",
    "db_labels = dbscan.labels_\n",
    "print(db_labels)\n",
    "silhouette_avg = silhouette_score(frame.T, db_labels)\n",
    "print(silhouette_avg)"
   ]
  },
  {
   "cell_type": "code",
   "execution_count": 63,
   "metadata": {},
   "outputs": [
    {
     "name": "stdout",
     "output_type": "stream",
     "text": [
      "[0 0 0 0 0 0 0 0 0 0 0 0 0 0 0 0 0 0 0 0 0 0 0 0 0 0 0 0 0 0 0 0 0 0 0 0 0\n",
      " 0 0 0 0 0 0 0 0 0 0 0 0 0 0 0 0 0 0 0 0 0 0 0 0 0 0 0 0 0 0 0 0 0 0 0 0 0\n",
      " 0 0 0 0 0 0 0 0 0 0 0 0 0 0 0 0 0 1 0 0 0 0 0 0 0 0 0 0 0 0 0 0 0 0 0 0 0\n",
      " 0 0 0 0 0 0 0 0 0 0 0 0 0 0 0 0 0 0 0 0 0 0 0 0 0 0 0 0 0 0 0 0 0 0 0 0 0\n",
      " 0 0 0 0 0 0 0 0 0 0 0 0 0 0 0 0 0 0 0 0 0 0 0 0 0 0 0 0 0 0 0 0 0 0 0 0 0\n",
      " 0 0 0 0 0 0 0 0 0 0 0 0 0 0 0 0 0 0 0 0 0 0 0 0 0 0 0 0 0 0 0 0 0 0 0 0 0\n",
      " 0 0 0 0 0 0 0 0 0 0 0 0 0 0 0 0 0 0 0 0 0 0 0 0 0 0 0 0 0 0 0 0 0 0 0 0 0\n",
      " 0 0 0 0 0 0 0 0 0 0 0 0 0 0 0 0 0 0 0 0 0 0 0 0 0 0 0 0 0 0 0 0 0 0 0 0 0\n",
      " 0 0]\n",
      "0.9405452116338006\n"
     ]
    }
   ],
   "source": [
    "#k=2时使用KMeans得到聚类结果\n",
    "kmeans = KMeans(n_clusters=2).fit(frame.T)\n",
    "\n",
    "kmeans_labels = kmeans.labels_\n",
    "silhouette_avg = silhouette_score(frame.T, kmeans_labels)\n",
    "print(kmeans_labels)\n",
    "print(silhouette_avg)"
   ]
  },
  {
   "cell_type": "code",
   "execution_count": 64,
   "metadata": {},
   "outputs": [
    {
     "name": "stdout",
     "output_type": "stream",
     "text": [
      "1.0\n",
      "(1.0, 1.0, 1.0)\n",
      "1.0\n"
     ]
    }
   ],
   "source": [
    "#使用sklearn中的函数对比两个聚类结果的调整兰德指数\n",
    "print(metrics.adjusted_rand_score(db_labels, kmeans_labels)) \n",
    "#使用sklearn中的函数对比两个聚类结果的同质性、完整性和它们的加权平均\n",
    "print(metrics.homogeneity_completeness_v_measure(db_labels, kmeans_labels))\n",
    "#使用sklearn中的函数对比两个聚类结果的互信息\n",
    "print(metrics.adjusted_mutual_info_score(db_labels, kmeans_labels))"
   ]
  },
  {
   "cell_type": "code",
   "execution_count": null,
   "metadata": {},
   "outputs": [],
   "source": []
  }
 ],
 "metadata": {
  "kernelspec": {
   "display_name": "Python 3",
   "language": "python",
   "name": "python3"
  },
  "language_info": {
   "codemirror_mode": {
    "name": "ipython",
    "version": 3
   },
   "file_extension": ".py",
   "mimetype": "text/x-python",
   "name": "python",
   "nbconvert_exporter": "python",
   "pygments_lexer": "ipython3",
   "version": "3.6.4"
  }
 },
 "nbformat": 4,
 "nbformat_minor": 2
}
